{
 "cells": [
  {
   "cell_type": "markdown",
   "metadata": {
    "id": "t9v1vX4-OGIT"
   },
   "source": [
    "# Problem set 2 (35 + 55 + 15 + 28 = 133 pts)"
   ]
  },
  {
   "cell_type": "markdown",
   "metadata": {
    "id": "FOMNJ4TcOGIV"
   },
   "source": [
    "## Problem 1 (LU decomposition) 35 pts\n"
   ]
  },
  {
   "cell_type": "markdown",
   "metadata": {
    "id": "pYHDl6ppOGIV"
   },
   "source": [
    "### 1. LU for band matrices (7 pts)\n",
    "\n",
    "The complexity to find an LU decomposition of a dense $n\\times n$ matrix is $\\mathcal{O}(n^3)$.\n",
    "Significant reduction in complexity can be achieved if the matrix has a certain structure, e.g. it is sparse. \n",
    "In the following task we consider an important example of $LU$ for a special type of sparse matrices –– band matrices with the bandwidth $m$ equal to 3 or 5 which called tridiagonal and pentadiagonal respectively.\n",
    "\n",
    "- (5 pts) Write a function ```band_lu(diag_broadcast, n)``` which computes LU decomposition for tridiagonal or pentadiagonal matrix with given diagonal values. \n",
    "For example, input parametres ```(diag_broadcast = [4,-2,1], n = 4)``` mean that we need to find LU decomposition for the triangular matrix of the form:\n",
    "\n",
    "$$A = \\begin{pmatrix}\n",
    "-2 & 1 & 0 & 0\\\\\n",
    "4 & -2 & 1 & 0 \\\\\n",
    "0 & 4 & -2 & 1 \\\\\n",
    "0 & 0 & 4 & -2 \\\\\n",
    "\\end{pmatrix}.$$\n",
    "\n",
    "As an output it is considered to make ```L``` and ```U``` - 2D arrays representing diagonals in factors $L$ (```L[0]``` keeps first lower diagonal, ```L[1]``` keeps second lower, ...), and $U$ (```U[:,0]``` keeps main diagonal, ```U[:,1]``` keeps first upper, ...).\n",
    "- (2 pts) Compare execution time of the band LU decomposition using standard function from ```scipy```, i.e. which takes the whole matrix and does not know about its special structure, and band decomposition of yours implementation. Comment on the results."
   ]
  },
  {
   "cell_type": "code",
   "execution_count": 1,
   "metadata": {
    "id": "XVySYJbTOGIa"
   },
   "outputs": [],
   "source": [
    "# Your solution is here"
   ]
  },
  {
   "cell_type": "code",
   "execution_count": 2,
   "metadata": {
    "id": "BvY7icWBOGIW"
   },
   "outputs": [],
   "source": [
    "from scipy.sparse import diags # can be used with broadcasting of scalars if desired dimensions are large\n",
    "import numpy as np\n",
    "\n",
    "# INPUT : diag_broadcast - list of diagonals value to broadcast,length equal to 3 or 5; n - integer, band matrix shape.\n",
    "# OUTPUT : L - 2D np.ndarray, L.shape[0] depends on bandwidth, L.shape[1] = n-1, do not store main diagonal, where all ones;                  add zeros to the right side of rows to handle with changing length of diagonals.\n",
    "#          U - 2D np.ndarray, U.shape[0] = n, U.shape[1] depends on bandwidth;\n",
    "#              add zeros to the bottom of columns to handle with changing length of diagonals.\n",
    "def band3_lu(diag_broadcast, n):\n",
    "    # enter your code here\n",
    "    \n",
    "    ld, md, ud = map(lambda x: np.ones(x[0]) * x[1], zip([n - 1, n, n - 1], diag_broadcast))\n",
    "    l = np.zeros(n - 1)\n",
    "\n",
    "    for j in range(n - 1):\n",
    "        assert md[j] != 0, 'Encountered pivot is zero, choose another matrix'\n",
    "\n",
    "        md[j + 1] -= (ud[j] / md[j]) * ld[j]\n",
    "        l[j] = ld[j] / md[j]\n",
    "\n",
    "    return [l, np.ones(n)], [md, ud]\n",
    "    \n",
    "def band5_lu(diag_broadcast, n):\n",
    "    # enter your code here\n",
    "    \n",
    "    ldo, ldi, md, udi, udo = map(lambda x: np.ones(x[0]) * x[1], zip([n-2, n-1, n, n-1, n-2], diag_broadcast))\n",
    "    lo, li = map(np.zeros, [n - 2, n - 1])\n",
    "\n",
    "    for j in range(n - 2):\n",
    "        assert md[j] != 0, 'Encountered pivot is zero, choose another matrix'\n",
    "\n",
    "        md[j + 1] -= (udi[j] / md[j]) * ldi[j]\n",
    "        udi[j + 1] -= (udo[j] / md[j]) * ldi[j]\n",
    "\n",
    "        ldi[j + 1] -= (udi[j] / md[j]) * ldo[j]\n",
    "        md[j + 2] -= (udo[j] / md[j]) * ldo[j]\n",
    "\n",
    "        li[j] = ldi[j] / md[j]\n",
    "        lo[j] = ldo[j] / md[j]\n",
    "\n",
    "    md[n - 1] -= (udi[n - 2] / md[n - 2]) * ldi[n - 2]\n",
    "    li[n - 2] = ldi[n - 2] / md[n - 2]\n",
    "\n",
    "    return [lo, li, np.ones(n)], [md, udi, udo]"
   ]
  },
  {
   "cell_type": "code",
   "execution_count": 3,
   "metadata": {},
   "outputs": [
    {
     "data": {
      "text/plain": [
       "array([[-2.,  1., -3.,  0.,  0.,  0.,  0.],\n",
       "       [ 1., -2.,  1., -3.,  0.,  0.,  0.],\n",
       "       [-3.,  1., -2.,  1., -3.,  0.,  0.],\n",
       "       [ 0., -3.,  1., -2.,  1., -3.,  0.],\n",
       "       [ 0.,  0., -3.,  1., -2.,  1., -3.],\n",
       "       [ 0.,  0.,  0., -3.,  1., -2.,  1.],\n",
       "       [ 0.,  0.,  0.,  0., -3.,  1., -2.]])"
      ]
     },
     "execution_count": 3,
     "metadata": {},
     "output_type": "execute_result"
    }
   ],
   "source": [
    "n = 7\n",
    "\n",
    "# diag_broadcast = [1, -2, 1]\n",
    "# l, u = band3_lu(diag_broadcast, n)\n",
    "# diags(l, [-1, 0]).toarray() @ diags(u, [0, 1]).toarray()\n",
    "\n",
    "diag_broadcast = [-3, 1, -2, 1, -3]\n",
    "l, u = band5_lu(diag_broadcast, n)\n",
    "diags(l, [-2, -1, 0]).toarray() @ diags(u, [0, 1, 2]).toarray()"
   ]
  },
  {
   "cell_type": "code",
   "execution_count": 4,
   "metadata": {},
   "outputs": [
    {
     "data": {
      "application/vnd.jupyter.widget-view+json": {
       "model_id": "074ccac819114941bad1da911f7ee577",
       "version_major": 2,
       "version_minor": 0
      },
      "text/plain": [
       "HBox(children=(HTML(value=''), FloatProgress(value=0.0, max=15.0), HTML(value='')))"
      ]
     },
     "metadata": {},
     "output_type": "display_data"
    },
    {
     "name": "stdout",
     "output_type": "stream",
     "text": [
      "\n"
     ]
    }
   ],
   "source": [
    "import itertools\n",
    "from tqdm.notebook import tqdm\n",
    "from scipy.linalg import lu_factor\n",
    "\n",
    "\n",
    "band3, scipy3 = [], []\n",
    "\n",
    "diag_broadcast = [-3, 1, -2, 1, -3]\n",
    "ranges = [np.linspace(2 * mult, 10 * mult, 5, dtype=int) for mult in np.logspace(0, 2, 3)]\n",
    "\n",
    "for n in tqdm(list(itertools.chain(*ranges))):\n",
    "    A = diags(list(map(lambda x: [x[0]] * x[1], zip(diag_broadcast, [n-2, n-1, n, n-1, n-2]))), \n",
    "              [-2, -1, 0, 1, 2]).toarray()\n",
    "\n",
    "    t = %timeit -o -q band3_lu(diag_broadcast, n)\n",
    "    band3.append(t.average)\n",
    "    \n",
    "    t = %timeit -o -q lu_factor(A)\n",
    "    scipy3.append(t.average)"
   ]
  },
  {
   "cell_type": "code",
   "execution_count": 5,
   "metadata": {},
   "outputs": [
    {
     "data": {
      "image/png": "[encoded data removed]",
      "text/plain": [
       "<Figure size 1080x360 with 3 Axes>"
      ]
     },
     "metadata": {
      "needs_background": "light"
     },
     "output_type": "display_data"
    }
   ],
   "source": [
    "from matplotlib import pyplot as plt\n",
    "%matplotlib inline\n",
    "\n",
    "\n",
    "fig, ax = plt.subplots(1, 3, figsize=(15, 5), sharey=False)\n",
    "\n",
    "fig.suptitle('Time comparison for the bandwidth equal to 5', fontsize=22, y=1)\n",
    "\n",
    "ax[0].scatter(ranges[0], band3[:5], label='band')\n",
    "ax[0].scatter(ranges[0], scipy3[:5], label='scipy')\n",
    "ax[0].set_ylim(-1e-6, 1e-4)\n",
    "ax[0].ticklabel_format(style='sci', axis='y', scilimits=(0,0))\n",
    "ax[0].set_title('Order of 0 size')\n",
    "ax[0].legend(loc=2)\n",
    "\n",
    "ax[0].set_ylabel('Time, s', fontsize=18)\n",
    "\n",
    "ax[1].scatter(ranges[1], band3[5:10], label='band')\n",
    "ax[1].scatter(ranges[1], scipy3[5:10], label='scipy')\n",
    "ax[1].set_ylim(-1e-5, 1e-3)\n",
    "ax[1].ticklabel_format(style='sci', axis='y', scilimits=(0,0))\n",
    "ax[1].set_title('Order of 1 size')\n",
    "ax[1].legend(loc=2)\n",
    "\n",
    "ax[1].set_xlabel('Matrix size', fontsize=18)\n",
    "\n",
    "ax[2].scatter(ranges[2], band3[-5:], label='band')\n",
    "ax[2].scatter(ranges[2], scipy3[-5:], label='scipy')\n",
    "ax[2].set_ylim(-1e-4, 1e-2)\n",
    "ax[2].ticklabel_format(style='sci', axis='y', scilimits=(0,0))\n",
    "ax[2].set_title('Order of 2 size')\n",
    "ax[2].legend(loc=2)\n",
    "\n",
    "plt.show()"
   ]
  },
  {
   "cell_type": "markdown",
   "metadata": {
    "id": "_iM6NwHQOGId"
   },
   "source": [
    "### 2. Stability of LU (8 pts)\n",
    "\n",
    "Let\n",
    "$A = \\begin{pmatrix}\n",
    "\\varepsilon & 1 & 0\\\\\n",
    "1 & 1 & 1 \\\\\n",
    "0 & 1 & 1\n",
    "\\end{pmatrix}.$ \n",
    "* (5 pts) Find analytically LU decomposition with and without pivoting for the matrix $A$.\n",
    "* (3 pts) Explain, why can the LU decomposition fail to approximate factors $L$ and $U$ for $|\\varepsilon|\\ll 1$ in computer arithmetic?"
   ]
  },
  {
   "cell_type": "code",
   "execution_count": 6,
   "metadata": {},
   "outputs": [],
   "source": [
    "# Your solution is here"
   ]
  },
  {
   "cell_type": "markdown",
   "metadata": {
    "id": "CmkB9hxwOGId"
   },
   "source": [
    "* (5 pts) Find analytically LU decomposition with and without pivoting for the matrix $A$\n",
    "\n",
    "(without pivoting) \\\n",
    "$ A = \\begin{pmatrix} \\varepsilon & 1 & 0 \\\\ 1 & 1 & 1 \\\\ 0 & 1 & 1 \\end{pmatrix}\n",
    "    \\rightarrow\n",
    "      \\begin{pmatrix} \\varepsilon & 1 & 0 \\\\ 0 & \\frac{\\varepsilon - 1}{\\varepsilon} & 1 \\\\ 0 & 1 & 1 \\end{pmatrix}\n",
    "    \\rightarrow\n",
    "    \\begin{pmatrix} \\varepsilon & 1 & 0 \\\\ 0 & \\frac{\\varepsilon - 1}{\\varepsilon} & 1 \\\\ 0 & 0 &\n",
    "        \\frac{-1}{\\varepsilon - 1} \\end{pmatrix} \n",
    "    \\Rightarrow \n",
    "  L, U = \n",
    "      \\begin{pmatrix} 1 & 0 & 0 \\\\ \\frac{1}{\\varepsilon} & 1 & 0 \\\\ 0 & \n",
    "          \\frac{\\varepsilon}{\\varepsilon - 1} & 1 \\end{pmatrix},\n",
    "      \\begin{pmatrix} \\varepsilon & 1 & 0 \\\\ 0 & \\frac{\\varepsilon - 1}{\\varepsilon} & 1 \\\\ 0 & 0 &\n",
    "          \\frac{-1}{\\varepsilon - 1} \\end{pmatrix}\n",
    "$\n",
    "\n",
    "(with pivoting)\n",
    "\n",
    "$ A = \\begin{pmatrix} \\varepsilon & 1 & 0 \\\\ 1 & 1 & 1 \\\\ 0 & 1 & 1 \\end{pmatrix}\n",
    "    = P_{102} \n",
    "      \\begin{pmatrix} 1 & 1 & 1 \\\\ \\varepsilon & 1 & 0 \\\\ 0 & 1 & 1 \\end{pmatrix}\n",
    "    = P_{102}\n",
    "      \\begin{pmatrix} 1 & 0 & 0 \\\\ \\varepsilon & 1 & 0 \\\\ 0 & 0 & 1 \\end{pmatrix}\n",
    "      \\begin{pmatrix} 1 & 1 & 1 \\\\ 0 & 1 - \\varepsilon & -\\varepsilon \\\\ 0 & 1 & 1 \\end{pmatrix}\n",
    "    = P_{102}\n",
    "      \\begin{pmatrix} 1 & 0 & 0 \\\\ \\varepsilon & 1 & 0 \\\\ 0 & 0 & 1 \\end{pmatrix}\n",
    "      P_{021}\n",
    "      \\begin{pmatrix} 1 & 1 & 1 \\\\  0 & 1 & 1 \\\\ 0 & 1 - \\varepsilon & -\\varepsilon \\end{pmatrix}\n",
    "    = P_{102}\n",
    "      \\begin{pmatrix} 1 & 0 & 0 \\\\ \\varepsilon & 1 & 0 \\\\ 0 & 0 & 1 \\end{pmatrix}\n",
    "      P_{021}\n",
    "      \\begin{pmatrix} 1 & 0 & 0 \\\\ 0 & 1 & 0 \\\\ 0 & 1 - \\varepsilon & 1 \\end{pmatrix}\n",
    "      \\begin{pmatrix} 1 & 1 & 1 \\\\ 0 & 1 & 1 \\\\ 0 & 0 & -1 \\end{pmatrix}\n",
    "    \\Rightarrow\n",
    "      P_{021}P_{102}A\n",
    "    = \\begin{pmatrix} 1 & 0 & 0 \\\\ 0 & 1 & 0 \\\\ \\varepsilon & 0 & 1 \\end{pmatrix}\n",
    "      \\begin{pmatrix} 1 & 0 & 0 \\\\ 0 & 1 & 0 \\\\ 0 & 1 - \\varepsilon & 1 \\end{pmatrix}\n",
    "      \\begin{pmatrix} 1 & 1 & 1 \\\\ 0 & 1 & 1 \\\\ 0 & 0 & -1 \\end{pmatrix}\n",
    "    \\Rightarrow \\\\\n",
    "      P_{120}A\n",
    "    =\n",
    "      \\begin{pmatrix} 1 & 0 & 0 \\\\ 0 & 1 & 0 \\\\ \\varepsilon & 1 - \\varepsilon & 1 \\end{pmatrix}\n",
    "      \\begin{pmatrix} 1 & 1 & 1 \\\\ 0 & 1 & 1 \\\\ 0 & 0 & -1 \\end{pmatrix}\n",
    "    \\Rightarrow\n",
    "  L, U = \n",
    "      \\begin{pmatrix} 1 & 0 & 0 \\\\ 0 & 1 & 0 \\\\ \\varepsilon & 1 - \\varepsilon & 1 \\end{pmatrix},\n",
    "      \\begin{pmatrix} 1 & 1 & 1 \\\\ 0 & 1 & 1 \\\\ 0 & 0 & -1 \\end{pmatrix}\n",
    "$"
   ]
  },
  {
   "cell_type": "markdown",
   "metadata": {},
   "source": [
    "* (3 pts) Explain, why can the LU decomposition fail to approximate factors $L$ and $U$ for $|\\varepsilon|\\ll 1$ in computer arithmetic?\n",
    "\n",
    "**Answer:** Elements where the epsilon occures in the denominator can be very large, causing overflows, so that, the approximation will suffer"
   ]
  },
  {
   "cell_type": "markdown",
   "metadata": {
    "id": "EQwdRJSIOGIg"
   },
   "source": [
    "### 3. Block LU (10 pts)\n",
    "\n",
    "Let $A = \\begin{bmatrix} A_{11} & A_{12} \\\\ A_{21} & A_{22} \\end{bmatrix}$ be a block matrix. The goal is to solve the linear system\n",
    "\n",
    "$$\n",
    "\\begin{bmatrix} A_{11} & A_{12} \\\\ A_{21} & A_{22} \\end{bmatrix} \\begin{bmatrix} u_1 \\\\ u_2 \\end{bmatrix} = \\begin{bmatrix} f_1 \\\\ f_2 \\end{bmatrix}.\n",
    "$$\n",
    "\n",
    "* (2 pts) Using block elimination find matrix $S$ and right-hand side $\\hat{f_2}$ so that $u_2$ can be found from $S u_2 = \\hat{f_2}$. Note that the matrix $S$ is called <font color='red'> Schur complement </font> of the block $A_{11}$.\n",
    "* (4 pts) Using Schur complement properties prove that \n",
    "\n",
    "$$\\det(X+AB) = \\det(X)\\det(I+BX^{-1}A), $$\n",
    "\n",
    "\n",
    "where $X$ - nonsingular square matrix.\n",
    "* (4 pts) Let matrix $F \\in \\mathbb{R}^{m \\times n}$ and $G \\in \\mathbb{R}^{n \\times m}$. Prove that \n",
    "\n",
    "$$\\det(I_m - FG) = \\det(I_n - GF).$$"
   ]
  },
  {
   "cell_type": "code",
   "execution_count": 7,
   "metadata": {
    "id": "32HpfOPMOGIg"
   },
   "outputs": [],
   "source": [
    "# Your solution is here"
   ]
  },
  {
   "cell_type": "markdown",
   "metadata": {},
   "source": [
    "* (2 pts) Using block elimination find matrix $S$ and right-hand side $\\hat{f_2}$ so that $u_2$ can be found from $S u_2 = \\hat{f_2}$. Note that the matrix $S$ is called <font color='red'> Schur complement </font> of the block $A_{11}$.\n",
    "\n",
    "Let $A_{ij}$ be of the size $\\frac{n}{2} \\times \\frac{n}{2}$ and $A_{11}$ is also nonsingular\n",
    "\n",
    "$$\n",
    "    \\left[\\begin{array} {cc|c}  A_{11} & A_{12} & f_1 \\\\ A_{21} & A_{22} & f_2 \\end{array}\\right]\n",
    "  \\rightarrow\n",
    "    \\left[\\begin{array} {cc|c}  A_{11} & A_{12} & f_1 \\\\ \n",
    "          0 & A_{22} - A_{21}A_{11}^{-1}A_{12} & f_2 - A_{21}A_{11}^{-1}f_1 \\end{array}\\right]\n",
    "  =\n",
    "    \\left[\\begin{array} {cc|c}  A_{11} & A_{12} & f_1 \\\\ 0 & S & \\hat{f_2} \\end{array}\\right]\n",
    "$$"
   ]
  },
  {
   "cell_type": "markdown",
   "metadata": {},
   "source": [
    "* (4 pts) Using Schur complement properties prove that \n",
    "\n",
    "$$\\det(X+AB) = \\det(X)\\det(I+BX^{-1}A), $$\n",
    "\n",
    "Assume we know that \n",
    "\n",
    "$$ \\det\\begin{bmatrix} A_{11} & A_{12} \\\\ A_{21} & A_{22} \\end{bmatrix} = \\det(A_{11}A_{22} - A_{12}A_{21})$$\n",
    "\n",
    "Then,\n",
    "\n",
    "$$\n",
    "    \\begin{bmatrix} A_{11} & A_{12} \\\\ A_{21} & A_{22} \\end{bmatrix}\n",
    "  =\n",
    "    \\begin{bmatrix} A_{11} & 0 \\\\ A_{21} & I \\end{bmatrix}\n",
    "    \\begin{bmatrix} I & A_{11}^{-1}A_{12} \\\\ 0 & A_{22} - A_{21}A_{11}^{-1}A_{12} \\end{bmatrix}\n",
    "$$\n",
    "\n",
    "$$\n",
    "    \\det(A_{11}A_{22} - A_{12}A_{21})\n",
    "  =\n",
    "    \\det\\begin{bmatrix} A_{11} & A_{12} \\\\ A_{21} & A_{22} \\end{bmatrix}\n",
    "  =\n",
    "    \\det(A_{11}) \\det(A_{22} - A_{21}A_{11}^{-1}A_{12})\n",
    "$$\n",
    "\n",
    "Choosing $A_{11} = X, A_{12} = A, A_{21} = -B, A_{22} = I$ we obtain the required equation."
   ]
  },
  {
   "cell_type": "markdown",
   "metadata": {},
   "source": [
    "* (4 pts) Let matrix $F \\in \\mathbb{R}^{m \\times n}$ and $G \\in \\mathbb{R}^{n \\times m}$. Prove that \n",
    "\n",
    "$$\\det(I_m - FG) = \\det(I_n - GF).$$\n",
    "\n",
    "Recalling the equation from the previous problem and choosing\n",
    "$X = I_m, A = F, B = G, I = I_n$ constructs the proof."
   ]
  },
  {
   "cell_type": "markdown",
   "metadata": {
    "id": "YFc3BR_TOGIj"
   },
   "source": [
    "### 4. Efficient implementation of LU decomposition (10 pts)\n",
    "\n",
    "In the lecture we provide naive implementation of LU factorization with loops and elementwise update of factors. In this subproblem we ask you to provide more efficient implementation of LU factorization and explain how you derive this implementation (main ideas and how you use them in this particular case). \n",
    "- (1 pts) Main idea for speed up computation of LU factorization (without using built-in function!) \n",
    "- (4 pts) Implement the presented approach to speed up LU \n",
    "- (1 pts) Illustrate numerically that your implementation is correct\n",
    "- (2 pts) Provide the comparison of running time of naive implementation from the lecture, your implementation and NumPy built-in function for range of matrix dimensions. We expect you plot the running time vs matrix dimension for these implementations. So you should get the plot with three lines.\n",
    "- (2 pts) Discuss the obtained results and explain what other tricks are possible to accelerate computing the LU factorization. \n",
    "\n",
    "NumPy or JAX are both ok in this subproblem, but please use the single library for all implementations. "
   ]
  },
  {
   "cell_type": "code",
   "execution_count": 8,
   "metadata": {},
   "outputs": [],
   "source": [
    "def naive_lu(A):\n",
    "    n = A.shape[0]\n",
    "    L = np.zeros((n, n))\n",
    "    U = np.zeros((n, n))\n",
    "    \n",
    "    for k in range(n): #Eliminate one row   \n",
    "        L[k, k] = 1\n",
    "        \n",
    "        for i in range(k + 1, n):\n",
    "            L[i, k] =  A[i, k] / A[k, k]\n",
    "            for j in range(k + 1, n):\n",
    "                A[i, j] += -L[i, k] * A[k, j]\n",
    "                \n",
    "        for j in range(k, n):\n",
    "            U[k, j] = A[k, j]\n",
    "            \n",
    "    return L, U"
   ]
  },
  {
   "cell_type": "code",
   "execution_count": 9,
   "metadata": {
    "id": "4RBDYAWUOGIj"
   },
   "outputs": [],
   "source": [
    "# Your solution is here"
   ]
  },
  {
   "cell_type": "markdown",
   "metadata": {},
   "source": [
    "- (1 pts) Main idea for speed up computation of LU factorization (without using built-in function!) \n",
    "\n",
    "**Proposal:** Let's use vectoriaztion during the forward pass!"
   ]
  },
  {
   "cell_type": "markdown",
   "metadata": {},
   "source": [
    "- (4 pts) Implement the presented approach to speed up LU"
   ]
  },
  {
   "cell_type": "code",
   "execution_count": 10,
   "metadata": {},
   "outputs": [],
   "source": [
    "def vectorized_lu(A):\n",
    "    L = np.zeros_like(A)\n",
    "    \n",
    "    for k in range(A.shape[0]): #Eliminate one row  \n",
    "        L[(k + 1):, k] = A[k + 1:, k] / A[k, k]\n",
    "        A[(k + 1):, :] -= A[k, :] * L[(k + 1):, k].reshape(-1, 1)\n",
    "        \n",
    "        \n",
    "    return L + np.eye(A.shape[0]), A"
   ]
  },
  {
   "cell_type": "markdown",
   "metadata": {},
   "source": [
    "- (1 pts) Illustrate numerically that your implementation is correct"
   ]
  },
  {
   "cell_type": "code",
   "execution_count": 11,
   "metadata": {},
   "outputs": [
    {
     "data": {
      "text/plain": [
       "array([[0., 0., 0., 0.],\n",
       "       [0., 0., 0., 0.],\n",
       "       [0., 0., 0., 0.],\n",
       "       [0., 0., 0., 0.]])"
      ]
     },
     "execution_count": 11,
     "metadata": {},
     "output_type": "execute_result"
    }
   ],
   "source": [
    "A = np.array([[1., 4., 21., 7.], \n",
    "              [12., 4., 3., 1.], \n",
    "              [1., 4., 4., 31.],\n",
    "              [17., 3., 3., 2.]])\n",
    "\n",
    "L, U = vectorized_lu(A.copy())\n",
    "A - L @ U"
   ]
  },
  {
   "cell_type": "markdown",
   "metadata": {},
   "source": [
    "- (2 pts) Provide the comparison of running time of naive implementation from the lecture, your implementation and NumPy built-in function for range of matrix dimensions. We expect you plot the running time vs matrix dimension for these implementations. So you should get the plot with three lines."
   ]
  },
  {
   "cell_type": "code",
   "execution_count": 12,
   "metadata": {},
   "outputs": [
    {
     "data": {
      "application/vnd.jupyter.widget-view+json": {
       "model_id": "0ee20d5fd698484fa0ee3f763cd94ec4",
       "version_major": 2,
       "version_minor": 0
      },
      "text/plain": [
       "HBox(children=(HTML(value=''), FloatProgress(value=0.0, max=15.0), HTML(value='')))"
      ]
     },
     "metadata": {},
     "output_type": "display_data"
    },
    {
     "name": "stdout",
     "output_type": "stream",
     "text": [
      "\n"
     ]
    }
   ],
   "source": [
    "naive, vectorized, builtin = [], [], []\n",
    "\n",
    "diag_broadcast = [-3, 1, -2, 1, -3]\n",
    "ranges = [np.linspace(2 * mult, 10 * mult, 5, dtype=int) for mult in np.logspace(0, 2, 3)]\n",
    "\n",
    "for n in tqdm(list(itertools.chain(*ranges))):\n",
    "    A = diags(list(map(lambda x: [x[0]] * x[1], zip(diag_broadcast, [n-2, n-1, n, n-1, n-2]))), \n",
    "              [-2, -1, 0, 1, 2]).toarray()\n",
    "\n",
    "    if n <= 100:\n",
    "        t = %timeit -o -q naive_lu(A.copy())\n",
    "        naive.append(t.average)\n",
    "    else:\n",
    "        naive.append(0)\n",
    "    \n",
    "    t = %timeit -o -q vectorized_lu(A.copy())\n",
    "    vectorized.append(t.average)\n",
    "    \n",
    "    t = %timeit -o -q lu_factor(A.copy())\n",
    "    builtin.append(t.average)"
   ]
  },
  {
   "cell_type": "code",
   "execution_count": 13,
   "metadata": {},
   "outputs": [
    {
     "data": {
      "image/png": "[encoded data removed]",
      "text/plain": [
       "<Figure size 1080x360 with 3 Axes>"
      ]
     },
     "metadata": {
      "needs_background": "light"
     },
     "output_type": "display_data"
    }
   ],
   "source": [
    "fig, ax = plt.subplots(1, 3, figsize=(15, 5), sharey=True)\n",
    "\n",
    "fig.suptitle('Time comparison for the bandwidth equal to 5', fontsize=22, y=1)\n",
    "\n",
    "\n",
    "ax[0].scatter(ranges[0], vectorized[:5], label='vectorized')\n",
    "ax[0].scatter(ranges[0], builtin[:5], label='built-in', marker='+')\n",
    "ax[0].scatter(ranges[0], naive[:5], label='naive', marker='x')\n",
    "ax[0].set_title('Order of 0 size')\n",
    "ax[0].legend(loc=2)\n",
    "\n",
    "ax[0].set_ylabel('Time, s', fontsize=18)\n",
    "\n",
    "ax[1].scatter(ranges[1], vectorized[5:10], label='vectorized')\n",
    "ax[1].scatter(ranges[1], builtin[5:10], label='built-in', marker='+')\n",
    "ax[1].scatter(ranges[1], naive[5:10], label='naive', marker='x')\n",
    "ax[1].set_title('Order of 1 size')\n",
    "ax[1].legend(loc=2)\n",
    "\n",
    "ax[1].set_xlabel('Matrix size', fontsize=18)\n",
    "\n",
    "ax[2].scatter(ranges[2], vectorized[-5:], label='vectorized')\n",
    "ax[2].scatter(ranges[2], builtin[-5:], label='built-in', marker='+')\n",
    "ax[2].set_title('Order of 2 size')\n",
    "ax[2].legend(loc=2)\n",
    "\n",
    "plt.show()"
   ]
  },
  {
   "cell_type": "markdown",
   "metadata": {},
   "source": [
    "- (2 pts) Discuss the obtained results and explain what other tricks are possible to accelerate computing the LU factorization. \n",
    "\n",
    "**Answer:** If the matrix size is small, all the approaches, perform similarly, with the increase in size, the naive approach slows down significantly, while the others perform similarly. However, on the matrices of order 2, the performance of the vectorized function also decreases in comparison to the built-in approach.\n",
    "\n",
    "The profit from vectorization is obvious, however it's still far from highly computational effective built-in NumPy methods."
   ]
  },
  {
   "cell_type": "markdown",
   "metadata": {
    "id": "8DaPAmZPOGIm"
   },
   "source": [
    "## Problem 2 (eigenvalues)  55 pts\n",
    "\n",
    "### 1. Theoretical tasks (10 pts)\n",
    "\n",
    "* (5 pts) Prove that normal matrix is Hermitian iff its eigenvalues are real. Prove that normal matrix is unitary iff its eigenvalues satisfy $|\\lambda| = 1$. \n",
    "\n",
    "* (5 pts) The following problem illustrates instability of the Jordan form. Find theoretically the eigenvalues of the perturbed Jordan block:\n",
    "\n",
    "$$\n",
    "    J(\\varepsilon) = \n",
    "    \\begin{bmatrix} \n",
    "     \\lambda & 1 & & & 0 \\\\ \n",
    "     & \\lambda & 1 & & \\\\ \n",
    "     &  & \\ddots & \\ddots & \\\\ \n",
    "     & & & \\lambda & 1 \\\\ \n",
    "     \\varepsilon & & & & \\lambda  \\\\ \n",
    "    \\end{bmatrix}_{n\\times n}\n",
    "$$\n",
    "\n",
    "Comment how eigenvalues of $J(0)$ are perturbed for large $n$."
   ]
  },
  {
   "cell_type": "code",
   "execution_count": 14,
   "metadata": {
    "id": "8tMMinQ9OGIm"
   },
   "outputs": [],
   "source": [
    "# Your solution is here"
   ]
  },
  {
   "cell_type": "markdown",
   "metadata": {},
   "source": [
    "* (5 pts) Prove that normal matrix is Hermitian iff its eigenvalues are real. Prove that normal matrix is unitary iff its eigenvalues satisfy $|\\lambda| = 1$.\n",
    "\n",
    "($\\Rightarrow$) \n",
    "\n",
    "By definition of the Hermitian matrix $A = A^*$\n",
    "\n",
    "Consider $v$, such that $Av = \\lambda v$. \n",
    "\n",
    "On the one hand: $\\left<Av, v\\right> = (Av)^*v = (\\lambda v)^*v = \\lambda^* ||v||^2$\n",
    "\n",
    "On the other: $\\left<Av, v\\right> = (Av)^*v = v^*A^*v = v^*Av = v^* \\lambda v = \\lambda ||v||^2$\n",
    "\n",
    "It means that $\\lambda^* = \\lambda$, so that it's real.\n",
    "\n",
    "($\\Leftarrow$)\n",
    "\n",
    "As far as $A$ is normal, it can be represented in a form $A = V \\Lambda V^{-1}$, where $V$ is the unitary matrix of eigenvectors and $\\Lambda$ is the diagonal eigenvalues matrix.\n",
    "\n",
    "Also we know, that the eigenvalues are real, then \n",
    "$A^* = (V \\Lambda V^{-1})^* = V \\Lambda^* V^{-1} = V \\Lambda V^{-1} = A$\n",
    "\n",
    "So that, $A$ is Hermitian."
   ]
  },
  {
   "cell_type": "markdown",
   "metadata": {},
   "source": [
    "* (5 pts) The following problem illustrates instability of the Jordan form. Find theoretically the eigenvalues of the perturbed Jordan block:\n",
    "\n",
    "$$\n",
    "    J(\\varepsilon) = \n",
    "    \\begin{bmatrix} \n",
    "     \\lambda & 1 & & & 0 \\\\ \n",
    "     & \\lambda & 1 & & \\\\ \n",
    "     &  & \\ddots & \\ddots & \\\\ \n",
    "     & & & \\lambda & 1 \\\\ \n",
    "     \\varepsilon & & & & \\lambda  \\\\ \n",
    "    \\end{bmatrix}_{n\\times n}\n",
    "$$\n",
    "\n",
    "Comment how eigenvalues of $J(0)$ are perturbed for large $n$.\n",
    "\n",
    "Solution:\n",
    "\n",
    "$$ (\\lambda - \\mu)M_{11} - (-1)^n\\varepsilon M_{n1} \n",
    "= (\\lambda - \\mu)^n - (-1)^n\\varepsilon = 0\n",
    "\\Leftrightarrow\n",
    "$$\n",
    "$$\n",
    "\\Rightarrow\n",
    "(\\lambda - \\mu)^n = \\varepsilon e^{i(\\pi n + 2\\pi k)}\n",
    "\\Rightarrow\n",
    "\\lambda - \\mu = \\sqrt[n]{\\varepsilon} e^{i(\\pi n + 2\\pi k)}\n",
    "\\Rightarrow\n",
    "\\mu = \\lambda - \\sqrt[n]{\\varepsilon} e^{i(\\pi + \\frac{2\\pi k}{n})}, k = \\overline{0, n - 1}\n",
    "$$"
   ]
  },
  {
   "cell_type": "markdown",
   "metadata": {
    "id": "xWcyqKyrOGIp"
   },
   "source": [
    "### 2. PageRank (35 pts)\n",
    "\n",
    "\n",
    "#### Damping factor importance\n",
    "\n",
    "* (5 pts) Write the function ```pagerank_matrix(G)``` that takes an adjacency matrix $G$ (in both sparse and dense formats) as an input and outputs the corresponding PageRank matrix $A$."
   ]
  },
  {
   "cell_type": "code",
   "execution_count": 15,
   "metadata": {},
   "outputs": [],
   "source": [
    "import scipy\n",
    "from matplotlib import pyplot as plt"
   ]
  },
  {
   "cell_type": "code",
   "execution_count": 16,
   "metadata": {
    "id": "2jktwIc8OGIp"
   },
   "outputs": [],
   "source": [
    "# INPUT:  G - np.ndarray or sparse matrix\n",
    "# OUTPUT: A - np.ndarray (of size G.shape) or sparse matrix\n",
    "def pagerank_matrix(G):\n",
    "    # enter your code here\n",
    "    if scipy.sparse.issparse(G):\n",
    "        A = scipy.sparse.csr_matrix(G.multiply(1 / np.sum(G, axis=0)))\n",
    "    else:\n",
    "        A = G * 1 / np.sum(G, axis=0)\n",
    "    \n",
    "    return A"
   ]
  },
  {
   "cell_type": "markdown",
   "metadata": {
    "id": "BtVmgGnYOGIs"
   },
   "source": [
    "* (3 pts) Find PageRank matrix $A$ that corresponds to the following graph: <img src=\"graph.png\" width='250'>\n",
    "What is its largest eigenvalue? What multiplicity does it have?"
   ]
  },
  {
   "cell_type": "code",
   "execution_count": 17,
   "metadata": {},
   "outputs": [
    {
     "data": {
      "text/plain": [
       "array([-0.5+0.5j, -0.5-0.5j,  1. +0.j ,  1. +0.j , -1. +0.j ])"
      ]
     },
     "execution_count": 17,
     "metadata": {},
     "output_type": "execute_result"
    }
   ],
   "source": [
    "G = np.array([\n",
    "    [0, 1, 0, 0, 0],\n",
    "    [0, 0, 1, 0, 0],\n",
    "    [1, 1, 0, 0, 0],\n",
    "    [0, 0, 0, 0, 1],\n",
    "    [0, 0, 0, 1, 0]\n",
    "]).T\n",
    "\n",
    "\n",
    "A = pagerank_matrix(G)\n",
    "np.linalg.eigvals(A)"
   ]
  },
  {
   "cell_type": "markdown",
   "metadata": {},
   "source": [
    "**Answer:** The largest eigenvalue is 1 and it has multiplicity 2"
   ]
  },
  {
   "cell_type": "markdown",
   "metadata": {},
   "source": [
    "* (5 pts) Implement the power method for a given matrix $A$, an initial guess $x_0$ and a number of iterations ```num_iter```. It should be organized as a function ```power_method(A, x0, num_iter)``` that outputs approximation to eigenvector $x$, eigenvalue $\\lambda$ and history of residuals $\\{\\|Ax_k - \\lambda_k x_k\\|_2\\}$. Make sure that the method converges to the correct solution on a matrix $\\begin{bmatrix} 2 & -1 \\\\ -1 & 2 \\end{bmatrix}$ which is known to have the largest eigenvalue equal to $3$."
   ]
  },
  {
   "cell_type": "code",
   "execution_count": 18,
   "metadata": {
    "id": "uLo7A--rOGIs"
   },
   "outputs": [],
   "source": [
    "# INPUT:  A - np.ndarray (2D), x0 - np.ndarray (1D), num_iter - integer (positive)\n",
    "# OUTPUT: x - np.ndarray (of size x0), l - float, res - np.ndarray (of size num_iter + 1 [include initial guess])\n",
    "def power_method(A, x0, num_iter): # 5 pts\n",
    "    # enter your code here\n",
    "    x = x0\n",
    "    \n",
    "    l = (A @ x).T @ x\n",
    "    res = [np.linalg.norm(A @ x - l * x)]\n",
    "    \n",
    "    for iter_ in tqdm(range(num_iter)):\n",
    "        x = A @ x\n",
    "        x /= np.linalg.norm(x)\n",
    "        \n",
    "        l = ((A @ x).T @ x)\n",
    "        res.append(np.linalg.norm(A @ x - l * x))\n",
    "    \n",
    "    return x, l, res"
   ]
  },
  {
   "cell_type": "code",
   "execution_count": 19,
   "metadata": {},
   "outputs": [
    {
     "data": {
      "application/vnd.jupyter.widget-view+json": {
       "model_id": "7d3eedd0f1094d479c4426dc5cd2d3cb",
       "version_major": 2,
       "version_minor": 0
      },
      "text/plain": [
       "HBox(children=(HTML(value=''), FloatProgress(value=0.0, max=20.0), HTML(value='')))"
      ]
     },
     "metadata": {},
     "output_type": "display_data"
    },
    {
     "name": "stdout",
     "output_type": "stream",
     "text": [
      "\n",
      "x        = [[ 0.70710678 -0.70710678]]\n",
      "\\lambda  = [[3.]]\n",
      "residual = 2.8679748476275033e-10\n"
     ]
    }
   ],
   "source": [
    "x, l, res = power_method(np.array([[2, -1], [-1, 2]]), np.array([[3., -1.]]).T, 20)\n",
    "print(f'x        = {x.T}')\n",
    "print(f'\\lambda  = {l}')\n",
    "print(f'residual = {res[-1]}')"
   ]
  },
  {
   "cell_type": "markdown",
   "metadata": {},
   "source": [
    "* (2 pts) Run the power method for the graph presented above and plot residuals $\\|Ax_k - \\lambda_k x_k\\|_2$ as a function of $k$ for ```num_iter=100``` and random initial guess ```x0```.  Explain the absence of convergence."
   ]
  },
  {
   "cell_type": "code",
   "execution_count": 20,
   "metadata": {},
   "outputs": [
    {
     "data": {
      "application/vnd.jupyter.widget-view+json": {
       "model_id": "611469d04b954f8f9bbb44c938a3ee28",
       "version_major": 2,
       "version_minor": 0
      },
      "text/plain": [
       "HBox(children=(HTML(value=''), FloatProgress(value=0.0), HTML(value='')))"
      ]
     },
     "metadata": {},
     "output_type": "display_data"
    },
    {
     "name": "stdout",
     "output_type": "stream",
     "text": [
      "\n"
     ]
    }
   ],
   "source": [
    "x, l, res = power_method(A, np.random.sample(5).T, 100)"
   ]
  },
  {
   "cell_type": "code",
   "execution_count": 21,
   "metadata": {},
   "outputs": [
    {
     "data": {
      "image/png": "[encoded data removed]",
      "text/plain": [
       "<Figure size 576x288 with 1 Axes>"
      ]
     },
     "metadata": {
      "needs_background": "light"
     },
     "output_type": "display_data"
    }
   ],
   "source": [
    "plt.figure(figsize=(8, 4))\n",
    "\n",
    "plt.plot(res)\n",
    "\n",
    "plt.title(f'Power method convergence', fontsize=18)\n",
    "plt.xlabel('Iteration number', fontsize=16)\n",
    "plt.ylabel('Residual', fontsize=16)\n",
    "\n",
    "plt.ylim(0, 1)\n",
    "\n",
    "plt.show()"
   ]
  },
  {
   "cell_type": "markdown",
   "metadata": {},
   "source": [
    "**Answer:** The abscense of converrgence may be related to the fact that matrix A has two largest eigenvalues in modulus (1 and -1)"
   ]
  },
  {
   "cell_type": "markdown",
   "metadata": {},
   "source": [
    "* (2 pts) Consider the same graph, but with additional self loop at node 4 (self loop is an edge that connects a vertex with itself). Plot residuals as in the previous task and discuss the convergence. Now, run the power method with ```num_iter=100``` for 10 different initial guesses and print/plot the resulting approximated eigenvectors. Why do they depend on the initial guess?"
   ]
  },
  {
   "cell_type": "code",
   "execution_count": 22,
   "metadata": {},
   "outputs": [
    {
     "data": {
      "text/plain": [
       "array([-0.5+0.5j, -0.5-0.5j,  1. +0.j , -0.5+0.j ,  1. +0.j ])"
      ]
     },
     "execution_count": 22,
     "metadata": {},
     "output_type": "execute_result"
    }
   ],
   "source": [
    "G = np.array([\n",
    "    [0, 1, 0, 0, 0],\n",
    "    [0, 0, 1, 0, 0],\n",
    "    [1, 1, 0, 0, 0],\n",
    "    [0, 0, 0, 0, 1],\n",
    "    [0, 0, 0, 1, 1]\n",
    "]).T\n",
    "\n",
    "A = pagerank_matrix(G)\n",
    "np.linalg.eigvals(A)"
   ]
  },
  {
   "cell_type": "code",
   "execution_count": 23,
   "metadata": {},
   "outputs": [
    {
     "data": {
      "application/vnd.jupyter.widget-view+json": {
       "model_id": "548d8d7f52344d72872883ee4b43e705",
       "version_major": 2,
       "version_minor": 0
      },
      "text/plain": [
       "HBox(children=(HTML(value=''), FloatProgress(value=0.0), HTML(value='')))"
      ]
     },
     "metadata": {},
     "output_type": "display_data"
    },
    {
     "name": "stdout",
     "output_type": "stream",
     "text": [
      "\n"
     ]
    }
   ],
   "source": [
    "x, l, res = power_method(A, np.random.sample(5).T, 100)"
   ]
  },
  {
   "cell_type": "code",
   "execution_count": 24,
   "metadata": {},
   "outputs": [
    {
     "data": {
      "image/png": "[encoded data removed]",
      "text/plain": [
       "<Figure size 576x288 with 1 Axes>"
      ]
     },
     "metadata": {
      "needs_background": "light"
     },
     "output_type": "display_data"
    }
   ],
   "source": [
    "plt.figure(figsize=(8, 4))\n",
    "\n",
    "plt.plot(res)\n",
    "\n",
    "plt.title(f'Power method convergence', fontsize=18)\n",
    "plt.xlabel('Iteration number', fontsize=16)\n",
    "plt.ylabel('Residual', fontsize=16)\n",
    "\n",
    "plt.ylim(-1e-6, 1e-4)\n",
    "\n",
    "plt.show()"
   ]
  },
  {
   "cell_type": "markdown",
   "metadata": {},
   "source": [
    "**Answer:** as can be seen, now there is the only one maximum eiginvalue in modulus, so the method perfectly converges"
   ]
  },
  {
   "cell_type": "code",
   "execution_count": 25,
   "metadata": {
    "scrolled": true
   },
   "outputs": [
    {
     "data": {
      "application/vnd.jupyter.widget-view+json": {
       "model_id": "f45efe538cab43d7b7a040b564cb64fd",
       "version_major": 2,
       "version_minor": 0
      },
      "text/plain": [
       "HBox(children=(HTML(value=''), FloatProgress(value=0.0), HTML(value='')))"
      ]
     },
     "metadata": {},
     "output_type": "display_data"
    },
    {
     "name": "stdout",
     "output_type": "stream",
     "text": [
      "\n"
     ]
    },
    {
     "data": {
      "application/vnd.jupyter.widget-view+json": {
       "model_id": "ca810a7bdfd54cafa3423b0dd58087a3",
       "version_major": 2,
       "version_minor": 0
      },
      "text/plain": [
       "HBox(children=(HTML(value=''), FloatProgress(value=0.0), HTML(value='')))"
      ]
     },
     "metadata": {},
     "output_type": "display_data"
    },
    {
     "name": "stdout",
     "output_type": "stream",
     "text": [
      "\n"
     ]
    },
    {
     "data": {
      "application/vnd.jupyter.widget-view+json": {
       "model_id": "70113229ee2349598a1327f89dc181db",
       "version_major": 2,
       "version_minor": 0
      },
      "text/plain": [
       "HBox(children=(HTML(value=''), FloatProgress(value=0.0), HTML(value='')))"
      ]
     },
     "metadata": {},
     "output_type": "display_data"
    },
    {
     "name": "stdout",
     "output_type": "stream",
     "text": [
      "\n"
     ]
    },
    {
     "data": {
      "application/vnd.jupyter.widget-view+json": {
       "model_id": "b37e09d366a04d52a89dc3e05b234b30",
       "version_major": 2,
       "version_minor": 0
      },
      "text/plain": [
       "HBox(children=(HTML(value=''), FloatProgress(value=0.0), HTML(value='')))"
      ]
     },
     "metadata": {},
     "output_type": "display_data"
    },
    {
     "name": "stdout",
     "output_type": "stream",
     "text": [
      "\n"
     ]
    },
    {
     "data": {
      "application/vnd.jupyter.widget-view+json": {
       "model_id": "b247186358174f1a8cf6fb34507d6cda",
       "version_major": 2,
       "version_minor": 0
      },
      "text/plain": [
       "HBox(children=(HTML(value=''), FloatProgress(value=0.0), HTML(value='')))"
      ]
     },
     "metadata": {},
     "output_type": "display_data"
    },
    {
     "name": "stdout",
     "output_type": "stream",
     "text": [
      "\n"
     ]
    },
    {
     "data": {
      "application/vnd.jupyter.widget-view+json": {
       "model_id": "225ca009dcc14158aa1081d178765d25",
       "version_major": 2,
       "version_minor": 0
      },
      "text/plain": [
       "HBox(children=(HTML(value=''), FloatProgress(value=0.0), HTML(value='')))"
      ]
     },
     "metadata": {},
     "output_type": "display_data"
    },
    {
     "name": "stdout",
     "output_type": "stream",
     "text": [
      "\n"
     ]
    },
    {
     "data": {
      "application/vnd.jupyter.widget-view+json": {
       "model_id": "7d96c9dea892455abec8a4af3a08cee1",
       "version_major": 2,
       "version_minor": 0
      },
      "text/plain": [
       "HBox(children=(HTML(value=''), FloatProgress(value=0.0), HTML(value='')))"
      ]
     },
     "metadata": {},
     "output_type": "display_data"
    },
    {
     "name": "stdout",
     "output_type": "stream",
     "text": [
      "\n"
     ]
    },
    {
     "data": {
      "application/vnd.jupyter.widget-view+json": {
       "model_id": "87909350369146d285a1973177b18f08",
       "version_major": 2,
       "version_minor": 0
      },
      "text/plain": [
       "HBox(children=(HTML(value=''), FloatProgress(value=0.0), HTML(value='')))"
      ]
     },
     "metadata": {},
     "output_type": "display_data"
    },
    {
     "name": "stdout",
     "output_type": "stream",
     "text": [
      "\n"
     ]
    },
    {
     "data": {
      "application/vnd.jupyter.widget-view+json": {
       "model_id": "20c4277116764e12a690f0f0aefadb12",
       "version_major": 2,
       "version_minor": 0
      },
      "text/plain": [
       "HBox(children=(HTML(value=''), FloatProgress(value=0.0), HTML(value='')))"
      ]
     },
     "metadata": {},
     "output_type": "display_data"
    },
    {
     "name": "stdout",
     "output_type": "stream",
     "text": [
      "\n"
     ]
    },
    {
     "data": {
      "application/vnd.jupyter.widget-view+json": {
       "model_id": "97379d0d66cf4af2bdc91d6d977dccdb",
       "version_major": 2,
       "version_minor": 0
      },
      "text/plain": [
       "HBox(children=(HTML(value=''), FloatProgress(value=0.0), HTML(value='')))"
      ]
     },
     "metadata": {},
     "output_type": "display_data"
    },
    {
     "name": "stdout",
     "output_type": "stream",
     "text": [
      "\n"
     ]
    },
    {
     "data": {
      "text/plain": [
       "array([[0.25157423, 0.50314847, 0.50314847, 0.29339177, 0.58678353],\n",
       "       [0.24262509, 0.48525018, 0.48525018, 0.30665863, 0.61331726],\n",
       "       [0.24401636, 0.48803271, 0.48803271, 0.30466511, 0.60933023],\n",
       "       [0.29311043, 0.58622087, 0.58622087, 0.21296782, 0.42593564],\n",
       "       [0.26868243, 0.53736487, 0.53736487, 0.26468387, 0.52936774],\n",
       "       [0.21743014, 0.43486029, 0.43486029, 0.3389741 , 0.67794819],\n",
       "       [0.29073852, 0.58147703, 0.58147703, 0.21874188, 0.43748375],\n",
       "       [0.32827286, 0.65654571, 0.65654571, 0.0776304 , 0.1552608 ],\n",
       "       [0.14761627, 0.29523254, 0.29523254, 0.40097006, 0.80194011],\n",
       "       [0.24529969, 0.49059938, 0.49059938, 0.30280441, 0.60560882]])"
      ]
     },
     "execution_count": 25,
     "metadata": {},
     "output_type": "execute_result"
    }
   ],
   "source": [
    "np.array([power_method(A, np.random.sample(5).T, 100)[0] for _ in range(10)])"
   ]
  },
  {
   "cell_type": "markdown",
   "metadata": {},
   "source": [
    "**Answer:** as far as we have two distinct graph components, the algorithm may choose to adjust eigenvector to one of those parts"
   ]
  },
  {
   "cell_type": "markdown",
   "metadata": {},
   "source": [
    "In order to avoid this problem Larry Page and Sergey Brin [proposed](http://ilpubs.stanford.edu:8090/422/1/1999-66.pdf) to use the following regularization technique:\n",
    "\n",
    "$$\n",
    "A_d = dA + \\frac{1-d}{N} \\begin{pmatrix} 1 & \\dots & 1 \\\\ \\vdots & & \\vdots \\\\ 1 & \\dots & 1 \\end{pmatrix},\n",
    "$$\n",
    "\n",
    "where $d$ is a small parameter in $[0,1]$ (typically $d=0.85$), which is called **damping factor**, $A$ is of size $N\\times N$. Now $A_d$ is the matrix with multiplicity of the largest eigenvalue equal to 1. \n",
    "Recall that computing the eigenvector of the PageRank matrix, which corresponds to the largest eigenvalue, has the following interpretation. Consider a person who stays in a random node of a graph (i.e. opens a random web page); at each step s/he follows one of the outcoming edges uniformly at random (i.e. opens one of the links). So the person randomly walks through the graph and the eigenvector we are looking for is exactly his/her stationary distribution â€” for each node it tells you the probability of visiting this particular node. Therefore, if the person has started from a part of the graph which is not connected with the other part, he will never get there.  In the regularized model, the person at each step follows one of the outcoming links with probability $d$ OR teleports to a random node from the whole graph with probability $(1-d)$.\n",
    "\n",
    "* (2 pts) Now, run the power method with $A_d$ and plot residuals $\\|A_d x_k - \\lambda_k x_k\\|_2$ as a function of $k$ for $d=0.97$, ```num_iter=100``` and a random initial guess ```x0```.\n",
    "\n",
    "* (5 pts) Find the second largest in the absolute value eigenvalue of the obtained matrix $A_d$. How and why is it connected to the damping factor $d$? What is the convergence rate of the PageRank algorithm when using damping factor?"
   ]
  },
  {
   "cell_type": "code",
   "execution_count": 26,
   "metadata": {},
   "outputs": [
    {
     "data": {
      "text/plain": [
       "array([-0.485+0.485j, -0.485-0.485j,  1.   +0.j   ,  0.97 +0.j   ,\n",
       "       -0.485+0.j   ])"
      ]
     },
     "execution_count": 26,
     "metadata": {},
     "output_type": "execute_result"
    }
   ],
   "source": [
    "N = A.shape[0]\n",
    "d = .97\n",
    "\n",
    "Ad = d * A + ((1 - d) / N) * np.ones_like(A)\n",
    "np.linalg.eigvals(Ad)"
   ]
  },
  {
   "cell_type": "code",
   "execution_count": 27,
   "metadata": {},
   "outputs": [
    {
     "data": {
      "application/vnd.jupyter.widget-view+json": {
       "model_id": "68293ba3de9442a8955a999825accf9c",
       "version_major": 2,
       "version_minor": 0
      },
      "text/plain": [
       "HBox(children=(HTML(value=''), FloatProgress(value=0.0), HTML(value='')))"
      ]
     },
     "metadata": {},
     "output_type": "display_data"
    },
    {
     "name": "stdout",
     "output_type": "stream",
     "text": [
      "\n"
     ]
    }
   ],
   "source": [
    "x, l, res = power_method(Ad, np.random.sample(5).T, 100)"
   ]
  },
  {
   "cell_type": "code",
   "execution_count": 28,
   "metadata": {},
   "outputs": [
    {
     "data": {
      "image/png": "[encoded data removed]",
      "text/plain": [
       "<Figure size 576x288 with 1 Axes>"
      ]
     },
     "metadata": {
      "needs_background": "light"
     },
     "output_type": "display_data"
    }
   ],
   "source": [
    "plt.figure(figsize=(8, 4))\n",
    "\n",
    "plt.plot(res)\n",
    "\n",
    "plt.title(f'Power method convergence', fontsize=18)\n",
    "plt.xlabel('Iteration number', fontsize=16)\n",
    "plt.ylabel('Residual', fontsize=16)\n",
    "\n",
    "plt.ylim(-1e-3, 1e-2)\n",
    "\n",
    "plt.show()"
   ]
  },
  {
   "cell_type": "markdown",
   "metadata": {},
   "source": [
    "**Answer:** the second largest eigenvalue is equal to the dampling factor. This may occure because ...\n",
    "\n",
    "The convergence ratio is $.97^{100} \\approx .0475$"
   ]
  },
  {
   "cell_type": "markdown",
   "metadata": {
    "id": "9hAowO6zOGIu"
   },
   "source": [
    "Usually, graphs that arise in various areas are sparse (social, web, road networks, etc.) and, thus, computation of a matrix-vector product for corresponding PageRank matrix $A$ is much cheaper than $\\mathcal{O}(N^2)$. However, if $A_d$ is calculated directly, it becomes dense and, therefore, $\\mathcal{O}(N^2)$ cost grows prohibitively large for  big $N$.\n",
    "\n",
    "* (2 pts) Implement fast matrix-vector product for $A_d$ as a function ```pagerank_matvec(A, d, x)```, which takes a PageRank matrix $A$ (in sparse format, e.g., ```csr_matrix```), damping factor $d$ and a vector $x$ as an input and returns $A_dx$ as an output. \n",
    "\n",
    "* (1 pts) Generate a random adjacency matrix of size $10000 \\times 10000$ with only 100 non-zero elements and compare ```pagerank_matvec``` performance with direct evaluation of $A_dx$."
   ]
  },
  {
   "cell_type": "code",
   "execution_count": 29,
   "metadata": {
    "id": "4o3LKx5UOGIv"
   },
   "outputs": [],
   "source": [
    "# INPUT:  A - np.ndarray (2D), d - float (from 0.0 to 1.0), x - np.ndarray (1D, size of A.shape[0/1])\n",
    "# OUTPUT: y - np.ndarray (1D, size of x)\n",
    "def pagerank_matvec(A, d, x): # 2 pts\n",
    "    # enter your code here\n",
    "    N = A.shape[0]\n",
    "    \n",
    "    Ax = np.zeros(N)\n",
    "    if scipy.sparse.issparse(A):\n",
    "        nnz = A.nonzero()\n",
    "        np.add.at(Ax, nnz[0], np.array(A[nnz[0], nnz[1]])[0] * x[nnz[1]])\n",
    "    else:\n",
    "        Ax = A @ x\n",
    "        \n",
    "    y = Ax + ((1 - d) / N) * np.ones(N) * x.sum()\n",
    "    return y"
   ]
  },
  {
   "cell_type": "code",
   "execution_count": 30,
   "metadata": {
    "scrolled": true
   },
   "outputs": [
    {
     "data": {
      "text/plain": [
       "array([0.01519544, 0.01519544, 0.01519544, ..., 0.01519544, 0.01519544,\n",
       "       0.01519544])"
      ]
     },
     "execution_count": 30,
     "metadata": {},
     "output_type": "execute_result"
    }
   ],
   "source": [
    "pagerank_matvec(scipy.sparse.random(10000, 10000, format='csr', density=1e-6), .97, np.random.sample(10000).T)"
   ]
  },
  {
   "cell_type": "markdown",
   "metadata": {
    "id": "ru70NGUlOGIy"
   },
   "source": [
    "#### DBLP: computer science bibliography\n",
    "\n",
    "Download the dataset from [here](https://goo.gl/oZVxEa), unzip it and put `dblp_authors.npz`  and `dblp_graph.npz` in the same folder with this notebook. Each value (author name) from `dblp_authors.npz` corresponds to the row/column of the matrix from `dblp_graph.npz`. Value at row `i` and column `j` of the matrix from `dblp_graph.npz` corresponds to the number of times author `i` cited papers of the author `j`. Let us now find the most significant scientists according to PageRank model over DBLP data.\n",
    "\n",
    "* (4 pts) Load the weighted adjacency matrix and the authors list into Python using ```load_dblp(...)``` function. Print its density (fraction of nonzero elements). Find top-10 most cited authors from the weighted adjacency matrix. Now, make all the weights of the adjacency matrix equal to 1 for simplicity (consider only existence of connection between authors, not its weight). Obtain the PageRank matrix $A$ from the adjacency matrix and verify that it is stochastic.\n",
    " \n",
    " \n",
    "* (1 pts) In order to provide ```pagerank_matvec``` to your ```power_method``` (without rewriting it) for fast calculation of $A_dx$, you can create a ```LinearOperator```: \n",
    "```python\n",
    "L = scipy.sparse.linalg.LinearOperator(A.shape, matvec=lambda x, A=A, d=d: pagerank_matvec(A, d, x))\n",
    "```\n",
    "Calling ```L@x``` or ```L.dot(x)``` will result in calculation of ```pagerank_matvec(A, d, x)``` and, thus, you can plug $L$ instead of the matrix $A$ in the ```power_method``` directly. **Note:** though in the previous subtask graph was very small (so you could disparage fast matvec implementation), here it is very large (but sparse), so that direct evaluation of $A_dx$ will require $\\sim 10^{12}$ matrix elements to store - good luck with that (^_<).\n",
    "\n",
    "\n",
    "* (2 pts) Run the power method starting from the vector of all ones and plot residuals $\\|A_dx_k - \\lambda_k x_k\\|_2$  as a function of $k$ for $d=0.85$.\n",
    "\n",
    "\n",
    "* (1 pts) Print names of the top-10 authors according to PageRank over DBLP when $d=0.85$. Comment on your findings."
   ]
  },
  {
   "cell_type": "code",
   "execution_count": 31,
   "metadata": {
    "id": "L5ZnW7m-OGIz"
   },
   "outputs": [],
   "source": [
    "from scipy.sparse import load_npz\n",
    "import numpy as np\n",
    "def load_dblp(path_auth, path_graph):\n",
    "    G = load_npz(path_graph).astype(float)\n",
    "    with np.load(path_auth) as data: authors = data['authors']\n",
    "    return G, authors\n",
    "G, authors = load_dblp('dblp_authors.npz', 'dblp_graph.npz')"
   ]
  },
  {
   "cell_type": "code",
   "execution_count": 32,
   "metadata": {
    "id": "QynfixvjOGI1"
   },
   "outputs": [],
   "source": [
    "# Your code is here"
   ]
  },
  {
   "cell_type": "code",
   "execution_count": 33,
   "metadata": {},
   "outputs": [
    {
     "data": {
      "text/plain": [
       "4.4986518152305776e-05"
      ]
     },
     "execution_count": 33,
     "metadata": {},
     "output_type": "execute_result"
    }
   ],
   "source": [
    "# density\n",
    "G.getnnz() / np.prod(G.shape)"
   ]
  },
  {
   "cell_type": "code",
   "execution_count": 34,
   "metadata": {},
   "outputs": [
    {
     "data": {
      "text/plain": [
       "array(['Scott Shenker', 'Andrew Zisserman', 'Hari Balakrishnan',\n",
       "       'Jiawei Han', 'Anil K. Jain', 'Cordelia Schmid', 'Jitendra Malik',\n",
       "       'Ion Stoica', 'David E. Culler', 'David G. Lowe'], dtype='<U98')"
      ]
     },
     "execution_count": 34,
     "metadata": {},
     "output_type": "execute_result"
    }
   ],
   "source": [
    "# top-10 cited\n",
    "authors[np.argsort(np.array(G.sum(axis=0))[0])[:-11:-1]]"
   ]
  },
  {
   "cell_type": "code",
   "execution_count": 35,
   "metadata": {},
   "outputs": [],
   "source": [
    "# set all weights to one\n",
    "G[G.nonzero()] = 1"
   ]
  },
  {
   "cell_type": "code",
   "execution_count": 36,
   "metadata": {},
   "outputs": [
    {
     "name": "stderr",
     "output_type": "stream",
     "text": [
      "<ipython-input-16-5455c65c86ea>:6: RuntimeWarning: divide by zero encountered in true_divide\n",
      "  A = scipy.sparse.csr_matrix(G.multiply(1 / np.sum(G, axis=0)))\n"
     ]
    }
   ],
   "source": [
    "# calculate PageRank matrix\n",
    "A = pagerank_matrix(G.T)"
   ]
  },
  {
   "cell_type": "code",
   "execution_count": 37,
   "metadata": {},
   "outputs": [],
   "source": [
    "from scipy.sparse import linalg\n",
    "\n",
    "d = .85\n",
    "L = linalg.LinearOperator(A.shape, matvec=lambda x, A=A, d=d: pagerank_matvec(A, d, x))"
   ]
  },
  {
   "cell_type": "code",
   "execution_count": 38,
   "metadata": {},
   "outputs": [
    {
     "data": {
      "application/vnd.jupyter.widget-view+json": {
       "model_id": "72984608e799419b9a018c929bd28f64",
       "version_major": 2,
       "version_minor": 0
      },
      "text/plain": [
       "HBox(children=(HTML(value=''), FloatProgress(value=0.0, max=10.0), HTML(value='')))"
      ]
     },
     "metadata": {},
     "output_type": "display_data"
    },
    {
     "name": "stdout",
     "output_type": "stream",
     "text": [
      "\n"
     ]
    }
   ],
   "source": [
    "x, l, res = power_method(L, np.random.sample(A.shape[0]).T, 10)"
   ]
  },
  {
   "cell_type": "code",
   "execution_count": 39,
   "metadata": {},
   "outputs": [
    {
     "data": {
      "text/plain": [
       "1.1103751537167434"
      ]
     },
     "execution_count": 39,
     "metadata": {},
     "output_type": "execute_result"
    }
   ],
   "source": [
    "l"
   ]
  },
  {
   "cell_type": "code",
   "execution_count": 40,
   "metadata": {
    "scrolled": true
   },
   "outputs": [
    {
     "data": {
      "text/plain": [
       "array(['David E. Goldberg', 'Richard M. Karp', 'Azriel Rosenfeld',\n",
       "       'John E. Hopcroft', 'Ronald L. Rivest', 'Anil K. Jain',\n",
       "       'Takeo Kanade', 'Alfred V. Aho', 'Robert Endre Tarjan',\n",
       "       'Gerard Salton'], dtype='<U98')"
      ]
     },
     "execution_count": 40,
     "metadata": {},
     "output_type": "execute_result"
    }
   ],
   "source": [
    "authors[np.argsort(x)[:-11:-1]]"
   ]
  },
  {
   "cell_type": "markdown",
   "metadata": {},
   "source": [
    "The obtained list differs from the obtained directly from G"
   ]
  },
  {
   "cell_type": "markdown",
   "metadata": {
    "id": "hQ2vaIyMOGI3"
   },
   "source": [
    "### 3. QR algorithm (10 pts)\n",
    "\n",
    "* Implement QR-algorithm without shifting. Prototype of the function is given below (3 pts)"
   ]
  },
  {
   "cell_type": "code",
   "execution_count": 41,
   "metadata": {
    "id": "rMHBZLojOGI3"
   },
   "outputs": [],
   "source": [
    "# INPUT: \n",
    "# A_init - square matrix, \n",
    "# num_iter - number of iterations for QR algorithm\n",
    "# OUTPUT: \n",
    "# Ak - transformed matrix A_init given by QR algorithm, \n",
    "# convergence - numpy array of shape (num_iter, ), \n",
    "# where we store the maximal number from the Chebyshev norm \n",
    "# of triangular part of the Ak for every iteration\n",
    "def qr_algorithm(A_init, num_iter): # 3 pts\n",
    "    # enter your code here\n",
    "    convergence = []\n",
    "    \n",
    "    A_k = A_init\n",
    "    for _ in range(num_iter):\n",
    "        Q, R = np.linalg.qr(A_k)\n",
    "        A_k = R @ Q\n",
    "        convergence.append(np.max(abs(np.tril(A_k, -1))))\n",
    "        \n",
    "    return A_k, convergence"
   ]
  },
  {
   "cell_type": "markdown",
   "metadata": {
    "id": "UNrCBNRUOGI6"
   },
   "source": [
    "#### Symmetric case (3 pts)\n",
    "- Create symmetric tridiagonal $11 \\times 11$ matrix with elements $-1, 2, -1$ on sub-, main- and upper diagonal respectively without using loops.\n",
    "- Run $400$ iterations of the QR algorithm for this matrix.\n",
    "- Plot the output matrix with function ```plt.spy(Ak, precision=1e-7)```.\n",
    "- Plot convergence of QR-algorithm."
   ]
  },
  {
   "cell_type": "code",
   "execution_count": 42,
   "metadata": {
    "id": "NuKwQGXbOGI6"
   },
   "outputs": [],
   "source": [
    "# Your solution is here"
   ]
  },
  {
   "cell_type": "code",
   "execution_count": 43,
   "metadata": {
    "scrolled": true
   },
   "outputs": [],
   "source": [
    "n = 11\n",
    "A = diags(list(map(lambda x: [x[0]] * x[1], zip([-1, 2, -1], [n - 1, n, n - 1]))), [-1, 0, 1]).toarray()"
   ]
  },
  {
   "cell_type": "code",
   "execution_count": 44,
   "metadata": {},
   "outputs": [],
   "source": [
    "num_iter = 400\n",
    "A_k, convergence = qr_algorithm(A, num_iter)"
   ]
  },
  {
   "cell_type": "code",
   "execution_count": 45,
   "metadata": {},
   "outputs": [
    {
     "data": {
      "image/png": "[encoded data removed]",
      "text/plain": [
       "<Figure size 1440x432 with 2 Axes>"
      ]
     },
     "metadata": {
      "needs_background": "light"
     },
     "output_type": "display_data"
    }
   ],
   "source": [
    "fig, ax = plt.subplots(1, 2, figsize=(20, 6))\n",
    "\n",
    "ax[0].spy(A_k, precision=1e-7, marker='.')\n",
    "ax[0].set_title('The $A_k$ matrix visualization', fontsize=18)\n",
    "\n",
    "ax[1].plot(convergence)\n",
    "ax[1].set_title('QR-algorithm convergence (symmetric case)', fontsize=18)\n",
    "ax[1].set_xlabel('Iteration', fontsize=16)\n",
    "ax[1].set_ylabel('$L_{\\infty}$ for the lower-triangular part of $A_k$', fontsize=16)\n",
    "\n",
    "plt.show()"
   ]
  },
  {
   "cell_type": "markdown",
   "metadata": {
    "id": "-lomV2K-OGI8"
   },
   "source": [
    "#### Nonsymmetric case (4 pts)\n",
    "\n",
    "- Create nonsymmetric tridiagonal $11 \\times 11$ matrix with elements $5, 3, -2$ on sub-, main- and upper diagonal respectively without using loops.\n",
    "- Run $250$ iterations of the QR algorithm for this matrix.\n",
    "- Plot the result matrix with function ```plt.spy(Ak, precision=1e-7)```. Is this matrix lower triangular? How does this correspond to the claim about convergence of the QR algorithm?"
   ]
  },
  {
   "cell_type": "code",
   "execution_count": 46,
   "metadata": {
    "id": "C2lGBHjaOGI9"
   },
   "outputs": [],
   "source": [
    "# Your solution is here"
   ]
  },
  {
   "cell_type": "code",
   "execution_count": 47,
   "metadata": {},
   "outputs": [],
   "source": [
    "n = 11\n",
    "A = diags(list(map(lambda x: [x[0]] * x[1], zip([5, 3, -2], [n - 1, n, n - 1]))), [-1, 0, 1]).toarray()"
   ]
  },
  {
   "cell_type": "code",
   "execution_count": 48,
   "metadata": {},
   "outputs": [],
   "source": [
    "num_iter = 250\n",
    "A_k, convergence = qr_algorithm(A, num_iter)"
   ]
  },
  {
   "cell_type": "code",
   "execution_count": 49,
   "metadata": {},
   "outputs": [
    {
     "data": {
      "image/png": "[encoded data removed]",
      "text/plain": [
       "<Figure size 1440x432 with 2 Axes>"
      ]
     },
     "metadata": {
      "needs_background": "light"
     },
     "output_type": "display_data"
    }
   ],
   "source": [
    "fig, ax = plt.subplots(1, 2, figsize=(20, 6))\n",
    "\n",
    "ax[0].spy(A_k, precision=1e-7, marker='.')\n",
    "ax[0].set_title('The $A_k$ matrix visualization', fontsize=18)\n",
    "\n",
    "ax[1].plot(convergence)\n",
    "ax[1].set_title('QR-algorithm convergence (non-symmetric case)', fontsize=18)\n",
    "ax[1].set_xlabel('Iteration', fontsize=16)\n",
    "ax[1].set_ylabel('$L_{\\infty}$ for the lower-triangular part of $A_k$', fontsize=16)\n",
    "\n",
    "plt.show()"
   ]
  },
  {
   "cell_type": "code",
   "execution_count": 50,
   "metadata": {},
   "outputs": [
    {
     "data": {
      "text/plain": [
       "array([3.+6.10905132j, 3.-6.10905132j, 3.+5.47722558j, 3.-5.47722558j,\n",
       "       3.+4.47213595j, 3.-4.47213595j, 3.+3.16227766j, 3.-3.16227766j,\n",
       "       3.+1.63691537j, 3.-1.63691537j, 3.+0.j        ])"
      ]
     },
     "execution_count": 50,
     "metadata": {},
     "output_type": "execute_result"
    }
   ],
   "source": [
    "np.linalg.eigvals(A_k)"
   ]
  },
  {
   "cell_type": "code",
   "execution_count": 51,
   "metadata": {},
   "outputs": [
    {
     "name": "stdout",
     "output_type": "stream",
     "text": [
      "[6.806, 6.806, 6.245, 6.245, 5.385, 5.385, 4.359, 4.359, 3.418, 3.418, 3.0]\n"
     ]
    }
   ],
   "source": [
    "# their modulus\n",
    "print(list(map(lambda x: round(np.linalg.norm(x), 3), np.linalg.eigvals(A_k))))"
   ]
  },
  {
   "cell_type": "markdown",
   "metadata": {},
   "source": [
    "**Answer:** as can be seen from the matrix structure, the $A_k$ didn't reach the desired upper-triangular format and the convergence plot gives negative prognosis for this event. The abscense of convergence may come from the fact that there are two different eigenvalues, equal in modulus."
   ]
  },
  {
   "cell_type": "markdown",
   "metadata": {
    "id": "c_8OYe7wOGI-"
   },
   "source": [
    "## Problem 3. (Pseudo-Schur decomposition) 15 pts\n",
    "Let's redefine scalar product $ \\forall x, y \\in \\mathbb{C}^n$ in a following way:\n",
    "\n",
    "$$ [x,y]_J = y^{*}Jx, \\text{s.t.}\\ J = \\text{diag}(j_{11}, j_{22}, \\dots, j_{nn})\\ \\text{and}\\ j_{ii} = \\pm1\\ \\forall i \\in [1,n].$$\n",
    "\n",
    "Denote rows of matrix $V \\in \\mathbb{C}^{n \\times n}$ as $v_1, v_2, \\dots, v_n$. Then $V$ is called $\\textbf{J-orthonormal}$ iff \n",
    "\n",
    "$$[v_i, v_k]_J = \\pm \\delta_{ik}.$$\n",
    "\n",
    "We will call matrix $T \\in \\mathbb{C}^{n \\times n}$ $\\textbf{almost triangular}$ iff $T$ is upper triangular with diagonal blocks of order $1$ or $2$.\n",
    "\n",
    "Matrix $A \\in \\mathbb{C}^{n \\times n}$ is said to be $\\textbf{J-decomposable}$ if exist J-orthonormal matrix $V$ and upper triangular matrix $T$ such that \n",
    "\n",
    "\n",
    "$$A = V T V^{-1}.$$\n",
    "\n",
    "Matrix $A \\in \\mathbb{C}^{n \\times n}$ is said to have $\\textbf{pseudoschur J-decomposition}$ if exist J-orthonormal matrix $V$ and almost triangular matrix $T$ such that\n",
    "\n",
    "\n",
    "$$A = V T V^{-1}.$$\n",
    "\n",
    "This problem is to get familiar with the fact that two abovementioned decompositions exist not for any square matrix with complex entries.\n",
    "\n",
    "\n",
    "\n",
    "\n",
    "- (2 pts) $A$ has pseudoschur J-decomposition $A = V T V^{-1}, \\ \\text{where}\\ V = \\begin{bmatrix} v_1 & v_2 &  \\ldots & v_n \\end{bmatrix}, \\ T = \\begin{bmatrix} T_{ij} \\end{bmatrix}$ and $v_1$ is $\\textbf{not}$ an eigenvector of $A$. Show that $T_{21} \\ne 0$. \n",
    "\n",
    "\n",
    "\n",
    "- (5 pts) Given $J = \\text{diag}(1, -1)$ and $A = \\begin{bmatrix}\n",
    "3   \\ -1\\\\\n",
    "-1\\   \\ 3\\\\\n",
    "\\end{bmatrix}$, prove that $A$ is not J-decomposable.\n",
    "\n",
    "\n",
    "- (8 pts) Given that $A \\in \\mathbb{C}^{n \\times n}$ is diagonalizable, show that it has pseudoschur J-decomposition for any $J$ of form $J=\\text{diag}(\\pm 1, \\dots, \\pm 1)$.\n",
    "Note that in order to solve that subproblem you should firstly prove the following fact:\n",
    "\n",
    "    Let $S \\in \\mathbb{C}^{m \\times n},\\ m \\ge n,\\ J = \\text{diag}(\\pm 1).$ If $A = S^{*}JS$ and $det(A) \\ne 0$, then exists QR decomposition of $S$ with respect to $J$: \n",
    "    $$S = P_1 QR P_2^{*} = P_1 Q \\begin{bmatrix} R_1 \\\\ 0 \\end{bmatrix} P_2^{*}, \\ Q^{*} J^{'}Q = J^{'}, \\ J^{'} = P_1^{*}JP_1,$$ where $P_1$ and $P_2$ are permutation matrices, $Q$ is called $J^{'}$- unitary and $R_1$ is almost triangular.\n"
   ]
  },
  {
   "cell_type": "code",
   "execution_count": 52,
   "metadata": {
    "id": "lAR4dXMOOGI_"
   },
   "outputs": [],
   "source": [
    "# Your solutuion is here"
   ]
  },
  {
   "cell_type": "markdown",
   "metadata": {},
   "source": [
    "- (2 pts) $A$ has pseudoschur J-decomposition $A = V T V^{-1}, \\ \\text{where}\\ V = \\begin{bmatrix} v_1 & v_2 &  \\ldots & v_n \\end{bmatrix}, \\ T = \\begin{bmatrix} T_{ij} \\end{bmatrix}$ and $v_1$ is $\\textbf{not}$ an eigenvector of $A$. Show that $T_{21} \\ne 0$.\n",
    "\n",
    "$T = V^{-1}AV = V^*AV =  \\begin{bmatrix} v_1^* \\\\ \\vdots \\\\ v_n^* \\end{bmatrix} \n",
    "                         \\begin{bmatrix} Av_1 & \\dots & Av_n \\end{bmatrix}\n",
    "   = \\begin{bmatrix} v_1^*Av_1 & \\dots \\\\ v_2^*Av_1 & \\dots \\\\ \\vdots & \\ddots \\\\ v_n^*Av_1 & \\dots \\end{bmatrix}$\n",
    "   \n",
    "The only possibility to have $\\alpha e_1$ vector in the first column is $v_1$ to be the eigenvector of $A$, which is prohibited. So that, $T_{21} \\neq 0$."
   ]
  },
  {
   "cell_type": "markdown",
   "metadata": {},
   "source": [
    "- (5 pts) Given $J = \\text{diag}(1, -1)$ and $A = \\begin{bmatrix}\n",
    "3   \\ -1\\\\\n",
    "-1\\   \\ 3\\\\\n",
    "\\end{bmatrix}$, prove that $A$ is not J-decomposable.\n",
    "\n",
    "Let's try to construct it. The matrix T will look as follows \n",
    "$T = \\begin{bmatrix} T_{11} & T_{12} \\\\ 0 & T_{22} \\end{bmatrix}$ as far as it shoutl be upper-triangular.\n",
    "\n",
    "So that, from the previous problem we have that $v_1$ is an eigenvector of $A$ then, \n",
    "$v_1 = \\begin{bmatrix} + \\frac{1}{\\sqrt{2}} \\\\ \\pm \\frac{1}{\\sqrt{2}} \\end{bmatrix}$. \n",
    "The $J$-orthigonal to it will be the vector $v_2 = \\begin{bmatrix} + \\frac{1}{\\sqrt{2}} \\\\ \\pm \\frac{1}{\\sqrt{2}} \\end{bmatrix}$. \n",
    "But this means, that the matrix $V$ is singular and has no inverse, so the decomposition does not exist."
   ]
  },
  {
   "cell_type": "markdown",
   "metadata": {
    "id": "herV0xZ3OGJB"
   },
   "source": [
    "## Problem 4. (Skeleton decomposition) 28 pts\n",
    "\n",
    "The application that we are particularly interested in is\n",
    "the approximation of a given matrix by a low-rank matrix:\n",
    "\n",
    "$$ A \\approx UV^T, A \\in \\mathbb{R}^{m \\times n}, U \\in \\mathbb{R}^{m \\times r}, V \\in \\mathbb{R}^{n \\times r}.$$\n",
    "\n",
    "It is well known that the best (in any unitary invariant norm) low-rank approximation can be computed via singular value decomposition (SVD). As an alternative, we can consider skeleton decompostion of the form:\n",
    "\n",
    "$$A \\approx A_r = A(: , \\mathcal{J})A(\\mathcal{I} , \\mathcal{J})^{-1}A(\\mathcal{I} , :),$$\n",
    "where $\\mathcal{I,J}$ are some index sets of length $r$."
   ]
  },
  {
   "cell_type": "markdown",
   "metadata": {
    "id": "fK7v5oD4d6zR"
   },
   "source": [
    "Below we consider the matrix $N \\times N$ derived from the following function discretization in the uniform grid in square $[0, 1] \\times [0, 1]$:\n",
    "$ f(x, y) = \\exp(-\\sqrt{x^2 + y^2})$.\n",
    "It means that $A = [a_{ij}]$, where $a_{ij} = f(x_i, x_j)$ and $x_i = i / (N-1)$, $x_j = j / (N-1)$, where $i, j = 0,\\ldots, N-1$.\n",
    "\n",
    "- (2 pts) compose this matrix for $N = 5000$ without loops (Hint: function ```np.meshgrid``` can help you)\n"
   ]
  },
  {
   "cell_type": "code",
   "execution_count": 53,
   "metadata": {
    "id": "W6OvG8PJdenP"
   },
   "outputs": [],
   "source": [
    "# Your solution is here"
   ]
  },
  {
   "cell_type": "code",
   "execution_count": 54,
   "metadata": {},
   "outputs": [
    {
     "data": {
      "text/plain": [
       "array([[1.        , 0.99979998, 0.9996    ],\n",
       "       [0.99979998, 0.99971714, 0.9995528 ],\n",
       "       [0.9996    , 0.9995528 , 0.99943436]])"
      ]
     },
     "execution_count": 54,
     "metadata": {},
     "output_type": "execute_result"
    }
   ],
   "source": [
    "def f(x, y):\n",
    "    return np.exp(-np.sqrt(x ** 2 + y ** 2))\n",
    "\n",
    "N = 5000\n",
    "A = f(*np.meshgrid(np.linspace(0, 1, N), np.linspace(0, 1, N)))\n",
    "\n",
    "A[:3, :3]"
   ]
  },
  {
   "cell_type": "markdown",
   "metadata": {
    "id": "Rj_OMuY7gvH9"
   },
   "source": [
    "- (3 pts) Compute Skeleton approximation with random selection of rows and columns indices for $r = 5$ (check that submatrix in the intersection of rows and columns is nonsingular). Average the relative error $\\frac{\\|A - A_r \\|_F}{\\|A\\|_F}$ over $M$ samples of column/row indices. Check that $M$ is sufficiently large to provide stable mean.\n",
    "\n",
    " Note: extracting submatrices should be done according to ```numpy```  e.g. ```A[index_set, :]``` to extract selected rows, ```A[:, index_set]``` to extract selected columns etc..\n"
   ]
  },
  {
   "cell_type": "code",
   "execution_count": 55,
   "metadata": {
    "id": "Qw4m6q0qjaSr"
   },
   "outputs": [],
   "source": [
    "# Your solution is here"
   ]
  },
  {
   "cell_type": "code",
   "execution_count": 56,
   "metadata": {},
   "outputs": [
    {
     "data": {
      "application/vnd.jupyter.widget-view+json": {
       "model_id": "0f7bbf8f634349af832dc9205d661a1e",
       "version_major": 2,
       "version_minor": 0
      },
      "text/plain": [
       "HBox(children=(HTML(value=''), FloatProgress(value=0.0, max=1.0), HTML(value='')))"
      ]
     },
     "metadata": {},
     "output_type": "display_data"
    },
    {
     "name": "stdout",
     "output_type": "stream",
     "text": [
      "\n"
     ]
    }
   ],
   "source": [
    "M = 250\n",
    "r = 5\n",
    "\n",
    "errors, mean_error_rand = [], []\n",
    "\n",
    "pbar = tqdm(total = len(errors)+1)\n",
    "while(len(errors) != M):\n",
    "    iset, jset = np.random.choice(np.arange(0, N), r, False), np.random.choice(np.arange(0, N), r, False) \n",
    "    \n",
    "    if np.linalg.matrix_rank(A[iset, :][:, jset], tol=1e-5) != r:\n",
    "        continue\n",
    "        \n",
    "    Ar = A[:, jset] @ np.linalg.inv(A[iset, :][:, jset])  @ A[iset, :]\n",
    "    \n",
    "    error = np.linalg.norm(A - Ar, ord='fro') / np.linalg.norm(A, ord='fro')\n",
    "    errors.append(error)\n",
    "    mean_error_rand.append(np.array(errors).mean())\n",
    "    \n",
    "    pbar.update(1)\n",
    "pbar.close()"
   ]
  },
  {
   "cell_type": "code",
   "execution_count": 57,
   "metadata": {},
   "outputs": [
    {
     "data": {
      "image/png": "[encoded data removed]",
      "text/plain": [
       "<Figure size 576x288 with 1 Axes>"
      ]
     },
     "metadata": {
      "needs_background": "light"
     },
     "output_type": "display_data"
    }
   ],
   "source": [
    "plt.figure(figsize=(8, 4))\n",
    "\n",
    "plt.plot(mean_error_rand)\n",
    "\n",
    "plt.title(f'Skeleton approximation of rank r = {r}', fontsize=18)\n",
    "plt.xlabel('Number of samples, M', fontsize=16)\n",
    "plt.ylabel('Mean relative error', fontsize=16)\n",
    "\n",
    "plt.ticklabel_format(style='sci', axis='y', scilimits=(0,0))\n",
    "plt.ylim(-1e-4, 1e-2)\n",
    "\n",
    "plt.show()"
   ]
  },
  {
   "cell_type": "markdown",
   "metadata": {
    "id": "lwP2qdOCkTBo"
   },
   "source": [
    "As you should know from the lecture, if $A$ is of rank $r$ and $\\hat{A} = A(\\mathcal{I} , \\mathcal{J})$ is nonsingular, then the exact equality holds. In the approximate case, however, the quality of the approximation depends on the volume of the submatrix $\\hat{A}$: \n",
    "\n",
    "**Theorem**\n",
    "\n",
    "*If $\\hat{A} = A_{max}$ has maximal in modulus determinant among all $r \\times r$ submatrices of $A$, the following error etimate holds:*\n",
    "\n",
    "$$ \\|A - A_r\\|_1 \\leq (r+1)\\sigma_{r+1}.$$\n",
    "\n",
    "\n",
    "And the question is how to choose a good submatrix of nearly maximal volume in practice.\n",
    "\n",
    "**Definition**: *We call $r \\times r$ submatrix $A_{dom}$ of rectangular $n \\times r$ matrix $A$ of\n",
    "full rank dominant, if all the entries of $AA_{dom}^{-1}$ are not greater than $1$ in\n",
    "modulus.*\n",
    "\n",
    "The crucial theoretical result behind the scene is that the volume of any dominant submatrix $A_{dom}$ can not be very much smaller than the maximum volume submatrix $A_{max}$ (without proof).\n",
    "\n",
    "We provide the following algorithm for constructing dominant submatrix of a tall matrix.\n",
    "\n",
    "**Algorithm 1**: \n",
    "    \n",
    "Given matrix $A$ of size $n \\times r$ finds dominant submatrix of size $r \\times r$\n",
    "\n",
    "__step 0.__ Start with arbitrary nonsingular $r \\times r$ submatrix $A_{dom}$. Reorder rows in $A$ so that $A_{dom}$ occupies first $r$ rows in $A$.\n",
    "\n",
    "__step 1.__ Compute $B = AA_{dom}^{-1}$ and find its maximum in module  entry $b_{ij}$.\n",
    "\n",
    "__step 2.__ **If $|b_{ij}| > 1 + \\delta$, then**:\n",
    "\n",
    "Swap rows $i$ and $j$ in $B$ (accrodignly in A). By swapping the rows we have increased the volume of the upper submatrix in $B$, as well as in $A$ (why?). Let $A_{dom}$ be the new upper submatrix of $A$ and go to __step 1__.\n",
    "\n",
    "**elseif $|b_{ij}| < 1 + \\delta$**:\n",
    "\n",
    "return $A_{dom}$.\n",
    "\n",
    "Note: $\\delta = 10^{-2}$ seems to be a good practical choice."
   ]
  },
  {
   "cell_type": "markdown",
   "metadata": {
    "id": "v68vVZrJnryX"
   },
   "source": [
    "- (10 pts) Implement algorithm 1 according to the following signature, where the function returns ```row_indices``` array which can be used as ```A[row_indices, :]``` to extract selected submatrix.\n",
    "\n",
    "Note that matrix inverse $A_{dom}^{-1}$ in step 3 has to be updated efficiently using [Shermann-Morison formula](https://en.wikipedia.org/wiki/Sherman%E2%80%93Morrison_formula) (inverse of rank-1 update)."
   ]
  },
  {
   "cell_type": "code",
   "execution_count": 58,
   "metadata": {
    "id": "YTSbyzAKkUEP"
   },
   "outputs": [],
   "source": [
    "def sm_inv(Adom_1, u, v):\n",
    "    return Adom_1 - (Adom_1 @ u @ v.T @ Adom_1) / (1. + v.T @ Adom_1 @ u)\n",
    "\n",
    "def dominant_submatrix_search(A, d=1e-2):\n",
    "    # Your code is here\n",
    "    n, r = A.shape\n",
    "    \n",
    "    row_indices = np.random.permutation(np.arange(n))\n",
    "    A = A[row_indices, :]\n",
    "    \n",
    "    assert np.linalg.matrix_rank(A[:r, :], tol=1e-5) == r, np.linalg.matrix_rank(A[:r, :], tol=1e-5)\n",
    "    \n",
    "    Adom_1 = np.linalg.inv(A[:r, :])\n",
    "    B = A @ Adom_1\n",
    "\n",
    "    while(abs(B).max() > 1 + d):\n",
    "        i, j = np.unravel_index(np.argmax(abs(B)), B.shape)\n",
    "        \n",
    "        u, v = (np.eye(n)[[j]] - np.eye(n)[[i]])[:, :r].T, (A[[i], :] - A[[j], :]).T\n",
    "        \n",
    "        A[[i, j], :] = A[[j, i], :]\n",
    "        B[[i, j], :] = B[[j, i], :]\n",
    "        row_indices[[i, j]] = row_indices[[j, i]]\n",
    "        \n",
    "        Adom_1 = sm_inv(Adom_1, u, v)  \n",
    "        B = A @ Adom_1\n",
    " \n",
    "    return row_indices[:r]"
   ]
  },
  {
   "cell_type": "code",
   "execution_count": 59,
   "metadata": {
    "id": "0DGuKmqLoUAi",
    "scrolled": false
   },
   "outputs": [],
   "source": [
    "# check the convergence of your implementation on random data\n",
    "row_indices = dominant_submatrix_search(np.random.rand(5000, 10))"
   ]
  },
  {
   "cell_type": "markdown",
   "metadata": {
    "id": "zVIzSkvaqwDm"
   },
   "source": [
    "- (10 pts) Propose the method to construct Skeleton approximation using Algorithm 1. The signature of the function is provided below.  Compare your algorithm with previously considered random selection on the matrix $A$.\n",
    "\n",
    "Hint: \n",
    "\n",
    "1) start with random selection of columns \n",
    "\n",
    "2) if you transpose the matrix for which you find rows, then Algorithm 1 will give you update for columns in the initial matrix"
   ]
  },
  {
   "cell_type": "code",
   "execution_count": 60,
   "metadata": {
    "id": "AbJRXIJNrbNz"
   },
   "outputs": [],
   "source": [
    "def skeleton(A, r):\n",
    "    # Your code is here\n",
    "    column_indices = np.random.choice(np.arange(0, N), r, False)\n",
    "    \n",
    "    row_indices = dominant_submatrix_search(A[:, column_indices].copy(), d=1e-2)\n",
    "    column_indices = dominant_submatrix_search(A[row_indices, :].T.copy(), d=1e-2)\n",
    "    \n",
    "    return row_indices, column_indices"
   ]
  },
  {
   "cell_type": "code",
   "execution_count": 61,
   "metadata": {},
   "outputs": [
    {
     "data": {
      "application/vnd.jupyter.widget-view+json": {
       "model_id": "d25b1197808747dba8532d8f032a10f2",
       "version_major": 2,
       "version_minor": 0
      },
      "text/plain": [
       "HBox(children=(HTML(value=''), FloatProgress(value=0.0, max=1.0), HTML(value='')))"
      ]
     },
     "metadata": {},
     "output_type": "display_data"
    },
    {
     "name": "stdout",
     "output_type": "stream",
     "text": [
      "\n"
     ]
    }
   ],
   "source": [
    "M = 250\n",
    "r = 5\n",
    "\n",
    "errors, mean_error_dom = [], []\n",
    "\n",
    "pbar = tqdm(total = len(errors)+1)\n",
    "while(len(errors) != M):\n",
    "    try:\n",
    "        iset, jset = skeleton(A, r) \n",
    "    except AssertionError:\n",
    "        continue\n",
    "        \n",
    "    if np.linalg.matrix_rank(A[iset, :][:, jset], tol=1e-5) != r:\n",
    "        continue\n",
    "        \n",
    "    Ar = A[:, jset] @ np.linalg.inv(A[iset, :][:, jset]) @ A[iset, :]\n",
    "    \n",
    "    error = np.linalg.norm(A - Ar, ord='fro') / np.linalg.norm(A, ord='fro')\n",
    "    errors.append(error)\n",
    "    mean_error_dom.append(np.array(errors).mean())\n",
    "    \n",
    "    pbar.update(1)\n",
    "pbar.close()"
   ]
  },
  {
   "cell_type": "code",
   "execution_count": 62,
   "metadata": {},
   "outputs": [
    {
     "data": {
      "image/png": "[encoded data removed]",
      "text/plain": [
       "<Figure size 576x288 with 1 Axes>"
      ]
     },
     "metadata": {
      "needs_background": "light"
     },
     "output_type": "display_data"
    }
   ],
   "source": [
    "plt.figure(figsize=(8, 4))\n",
    "\n",
    "plt.plot(mean_error_rand, label='random')\n",
    "plt.plot(mean_error_dom, label='dominant')\n",
    "\n",
    "plt.legend(loc='best')\n",
    "\n",
    "plt.title(f'Skeleton approximation of rank r = {r}', fontsize=18)\n",
    "plt.xlabel('Number of samples, M', fontsize=16)\n",
    "plt.ylabel('Mean relative error', fontsize=16)\n",
    "\n",
    "plt.ticklabel_format(style='sci', axis='y', scilimits=(0,0))\n",
    "plt.ylim(-1e-4, 1e-2)\n",
    "\n",
    "plt.show()"
   ]
  },
  {
   "cell_type": "markdown",
   "metadata": {},
   "source": [
    "**Answer:** the dominant approach dominates the random one"
   ]
  },
  {
   "cell_type": "markdown",
   "metadata": {
    "id": "hF8a5rTSs8Ie"
   },
   "source": [
    "- (3 pts) Compare your ```skeleton``` approximation algorithm with SVD and discuss its pros and cons."
   ]
  },
  {
   "cell_type": "code",
   "execution_count": 63,
   "metadata": {
    "id": "kgld0FW_r2xP"
   },
   "outputs": [],
   "source": [
    "# Your solution is here"
   ]
  },
  {
   "cell_type": "code",
   "execution_count": 64,
   "metadata": {},
   "outputs": [
    {
     "name": "stdout",
     "output_type": "stream",
     "text": [
      "CPU times: user 2min 53s, sys: 1e+03 ms, total: 2min 54s\n",
      "Wall time: 44 s\n"
     ]
    }
   ],
   "source": [
    "%%time\n",
    "u, s, v = np.linalg.svd(A)"
   ]
  },
  {
   "cell_type": "code",
   "execution_count": 65,
   "metadata": {},
   "outputs": [
    {
     "data": {
      "text/plain": [
       "0.00012"
      ]
     },
     "execution_count": 65,
     "metadata": {},
     "output_type": "execute_result"
    }
   ],
   "source": [
    "error_svd = np.linalg.norm(A - u[:, :r] @ np.diag(s[:r]) @ v[:r, :], ord='fro') / np.linalg.norm(A, ord='fro')\n",
    "np.round(error_svd, 5)"
   ]
  },
  {
   "cell_type": "code",
   "execution_count": 116,
   "metadata": {},
   "outputs": [
    {
     "name": "stdout",
     "output_type": "stream",
     "text": [
      "CPU times: user 364 ms, sys: 110 ms, total: 475 ms\n",
      "Wall time: 120 ms\n"
     ]
    }
   ],
   "source": [
    "%%time\n",
    "iset, jset = skeleton(A, r)"
   ]
  },
  {
   "cell_type": "code",
   "execution_count": 118,
   "metadata": {},
   "outputs": [
    {
     "data": {
      "text/plain": [
       "0.00057"
      ]
     },
     "execution_count": 118,
     "metadata": {},
     "output_type": "execute_result"
    }
   ],
   "source": [
    "Ar = A[:, jset] @ np.linalg.inv(A[iset, :][:, jset]) @ A[iset, :]\n",
    "np.round(np.linalg.norm(A - Ar, ord='fro') / np.linalg.norm(A, ord='fro'), 5)"
   ]
  },
  {
   "cell_type": "markdown",
   "metadata": {},
   "source": [
    "**Answer:** there is a tradeoff between the SVD accuracy and Skeleton speed"
   ]
  },
  {
   "cell_type": "code",
   "execution_count": null,
   "metadata": {},
   "outputs": [],
   "source": []
  }
 ],
 "metadata": {
  "colab": {
   "collapsed_sections": [],
   "name": "PS2.ipynb",
   "provenance": []
  },
  "kernelspec": {
   "display_name": "Python 3",
   "language": "python",
   "name": "python3"
  },
  "language_info": {
   "codemirror_mode": {
    "name": "ipython",
    "version": 3
   },
   "file_extension": ".py",
   "mimetype": "text/x-python",
   "name": "python",
   "nbconvert_exporter": "python",
   "pygments_lexer": "ipython3",
   "version": "3.8.5"
  }
 },
 "nbformat": 4,
 "nbformat_minor": 1
}
